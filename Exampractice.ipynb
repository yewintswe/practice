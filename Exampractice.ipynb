{
  "cells": [
    {
      "cell_type": "code",
      "execution_count": null,
      "metadata": {
        "id": "A7kdPMY2da_J"
      },
      "outputs": [],
      "source": [
        "!pip install pandas\n",
        "df=pd.read_csv('Course Evaluation_Parami.csv')\n",
        "print(df)"
      ]
    },
    {
      "cell_type": "code",
      "execution_count": 16,
      "metadata": {
        "colab": {
          "base_uri": "https://localhost:8080/"
        },
        "id": "HWwRynWzdmmr",
        "outputId": "59848ce6-9be0-41a7-89b7-2edc6d478560"
      },
      "outputs": [
        {
          "output_type": "stream",
          "name": "stdout",
          "text": [
            "Agree students = 4\n",
            "                0  1\n",
            "0  Strongly agree  6\n",
            "1           Agree  4\n",
            "2         Neutral  1\n"
          ]
        }
      ],
      "source": [
        "import pandas as pd\n",
        "df=pd.read_csv('Course Evaluation_Parami.csv')\n",
        "a = {'Strongly agree': 6, 'Agree': 4, 'Neutral': 1}\n",
        "print('Agree students =',a['Agree'])\n",
        "df=pd.DataFrame(dict.items(a))\n",
        "print(df)\n"
      ]
    },
    {
      "cell_type": "markdown",
      "metadata": {
        "id": "fbxdAoEndn1z"
      },
      "source": [
        "#Write Python codes read your survey data 'Course Evaluation_Parami.csv'# and compute to print the average age for each gender type.# draw boxplot to demonstrate the age distribution of th students.\n"
      ]
    },
    {
      "cell_type": "code",
      "source": [
        "import pandas as pd\n",
        "df=pd.read_csv('Course Evaluation_Parami.csv')\n",
        "print(df.groupby ('Gender')['Age'].mean())\n",
        "\n",
        "\n",
        "import matplotlib.pyplot as plt \n",
        "female = df[df['Gender']=='Female']\n",
        "male = df[df['Gender']=='Male']\n",
        "plt.boxplot([female['Age'], male['Age']], labels = ['female', 'male'])\n",
        "plt.show()"
      ],
      "metadata": {
        "colab": {
          "base_uri": "https://localhost:8080/",
          "height": 389
        },
        "id": "v0X50up_kSQH",
        "outputId": "722e926e-fffd-4e2f-90f4-c090e1c338db"
      },
      "execution_count": 21,
      "outputs": [
        {
          "output_type": "stream",
          "name": "stdout",
          "text": [
            "Gender\n",
            "Female    19.000000\n",
            "Male      21.571429\n",
            "Name: Age, dtype: float64\n"
          ]
        },
        {
          "output_type": "stream",
          "name": "stderr",
          "text": [
            "/usr/local/lib/python3.8/dist-packages/matplotlib/cbook/__init__.py:1376: VisibleDeprecationWarning: Creating an ndarray from ragged nested sequences (which is a list-or-tuple of lists-or-tuples-or ndarrays with different lengths or shapes) is deprecated. If you meant to do this, you must specify 'dtype=object' when creating the ndarray.\n",
            "  X = np.atleast_1d(X.T if isinstance(X, np.ndarray) else np.asarray(X))\n"
          ]
        },
        {
          "output_type": "display_data",
          "data": {
            "text/plain": [
              "<Figure size 432x288 with 1 Axes>"
            ],
            "image/png": "[encoded data removed]"
          },
          "metadata": {
            "needs_background": "light"
          }
        }
      ]
    }
  ],
  "metadata": {
    "colab": {
      "provenance": []
    },
    "kernelspec": {
      "display_name": "Python 3",
      "name": "python3"
    },
    "language_info": {
      "name": "python"
    }
  },
  "nbformat": 4,
  "nbformat_minor": 0
}